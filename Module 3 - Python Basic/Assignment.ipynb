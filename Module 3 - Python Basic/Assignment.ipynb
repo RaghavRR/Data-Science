{
 "cells": [
  {
   "cell_type": "code",
   "execution_count": 9,
   "metadata": {},
   "outputs": [
    {
     "data": {
      "text/plain": [
       "\"'\\n1) Easy to Learn & Use - Python has a simple syntax similar to English, making it beginner-friendly.\\n2) Versatile & Multi-Purpose - It can be used for web development, AI, data analysis, automation, IoT, and more.\\n3) Extensive Libraries & Frameworks - Libraries like NumPy, Pandas, TensorFlow, Django, and Flask help speed up development.\\n4) Strong Community Support - Python has a massive community, offering extensive documentation, tutorials, and third-party support.\\n5) Cross-Platform Compatibility - Python runs on Windows, macOS, and Linux without major modifications.\\n\""
      ]
     },
     "execution_count": 9,
     "metadata": {},
     "output_type": "execute_result"
    }
   ],
   "source": [
    "#1 What is Python, and why is it popular?\n",
    "'''\n",
    "Python is a high-level, interpreted programming language known for its simplicity and readability. It was created by Guido van Rossum and first released in 1991. Python is widely used in various fields, including web development, data science, machine learning, automation, and more.\n",
    "'''\n",
    "''''\n",
    "1) Easy to Learn & Use - Python has a simple syntax similar to English, making it beginner-friendly.\n",
    "2) Versatile & Multi-Purpose - It can be used for web development, AI, data analysis, automation, IoT, and more.\n",
    "3) Extensive Libraries & Frameworks - Libraries like NumPy, Pandas, TensorFlow, Django, and Flask help speed up development.\n",
    "4) Strong Community Support - Python has a massive community, offering extensive documentation, tutorials, and third-party support.\n",
    "5) Cross-Platform Compatibility - Python runs on Windows, macOS, and Linux without major modifications.\n",
    "'''\n"
   ]
  },
  {
   "cell_type": "code",
   "execution_count": 2,
   "metadata": {},
   "outputs": [
    {
     "data": {
      "text/plain": [
       "'\\nAn interpreter in Python is a program that executes Python code line by line rather than compiling it all at once like a compiler does. It reads, translates, and runs the Python script dynamically, making debugging easier.\\n'"
      ]
     },
     "execution_count": 2,
     "metadata": {},
     "output_type": "execute_result"
    }
   ],
   "source": [
    "#2  What is an interpreter in Python?\n",
    "'''\n",
    "An interpreter in Python is a program that executes Python code line by line rather than compiling it all at once like a compiler does. It reads, translates, and runs the Python script dynamically, making debugging easier.\n",
    "'''"
   ]
  },
  {
   "cell_type": "code",
   "execution_count": 3,
   "metadata": {},
   "outputs": [
    {
     "data": {
      "text/plain": [
       "'\\nKeywords in Python are reserved words that have a special meaning and cannot be used as variable names, function names, or identifiers. They define the syntax and structure of Python programs.\\n'"
      ]
     },
     "execution_count": 3,
     "metadata": {},
     "output_type": "execute_result"
    }
   ],
   "source": [
    "#3 What are pre-defined keywords in Python \n",
    "'''\n",
    "Keywords in Python are reserved words that have a special meaning and cannot be used as variable names, function names, or identifiers. They define the syntax and structure of Python programs.\n",
    "'''"
   ]
  },
  {
   "cell_type": "code",
   "execution_count": 4,
   "metadata": {},
   "outputs": [
    {
     "data": {
      "text/plain": [
       "'\\nNo, Python keywords cannot be used as variable names because they are reserved for specific functionalities in the language.\\n'"
      ]
     },
     "execution_count": 4,
     "metadata": {},
     "output_type": "execute_result"
    }
   ],
   "source": [
    "#4 Can keywords be used as variable names \n",
    "'''\n",
    "No, Python keywords cannot be used as variable names because they are reserved for specific functionalities in the language.\n",
    "'''"
   ]
  },
  {
   "cell_type": "code",
   "execution_count": 5,
   "metadata": {},
   "outputs": [
    {
     "data": {
      "text/plain": [
       "\"\\nMutability in Python refers to whether an object's value can be changed after it is created.\\n\\nMutable Objects → Can be modified after creation.\\nImmutable Objects → Cannot be modified after creation.\\n\""
      ]
     },
     "execution_count": 5,
     "metadata": {},
     "output_type": "execute_result"
    }
   ],
   "source": [
    "#5 What is mutability in Python \n",
    "'''\n",
    "Mutability in Python refers to whether an object's value can be changed after it is created.\n",
    "\n",
    "Mutable Objects → Can be modified after creation.\n",
    "Immutable Objects → Cannot be modified after creation.\n",
    "'''"
   ]
  },
  {
   "cell_type": "code",
   "execution_count": 6,
   "metadata": {},
   "outputs": [
    {
     "data": {
      "text/plain": [
       "'\\nLists Are Mutable\\n-Stored as dynamic arrays, allowing modifications.\\n-Elements can be changed, added, or removed.\\n-Python allocates extra memory for lists to support resizing.\\nTuples Are Immutable\\n-Stored as fixed memory blocks, making them faster and memory-efficient.\\n-Cannot be modified after creation.\\n-No extra memory is allocated for resizing.\\n-Tuples ensure data integrity, which is useful when working with constants.\\n\\n'"
      ]
     },
     "execution_count": 6,
     "metadata": {},
     "output_type": "execute_result"
    }
   ],
   "source": [
    "#6 Why are lists mutable, but tuples are immutable \n",
    "'''\n",
    "Lists Are Mutable\n",
    "-Stored as dynamic arrays, allowing modifications.\n",
    "-Elements can be changed, added, or removed.\n",
    "-Python allocates extra memory for lists to support resizing.\n",
    "Tuples Are Immutable\n",
    "-Stored as fixed memory blocks, making them faster and memory-efficient.\n",
    "-Cannot be modified after creation.\n",
    "-No extra memory is allocated for resizing.\n",
    "-Tuples ensure data integrity, which is useful when working with constants.\n",
    "\n",
    "'''"
   ]
  },
  {
   "cell_type": "code",
   "execution_count": 7,
   "metadata": {},
   "outputs": [
    {
     "data": {
      "text/plain": [
       "'\\n== (Equality Operator) checks whether two variables have the same value. Even if the objects are stored at different memory locations, == will return True if their values match.\\nis (Identity Operator) checks whether two variables refer to the same object in memory. If two variables point to different objects, even if they have the same value, is will return False.\\n'"
      ]
     },
     "execution_count": 7,
     "metadata": {},
     "output_type": "execute_result"
    }
   ],
   "source": [
    "#7 What is the difference between “==” and “is” operators in Python \n",
    "'''\n",
    "== (Equality Operator) checks whether two variables have the same value. Even if the objects are stored at different memory locations, == will return True if their values match.\n",
    "is (Identity Operator) checks whether two variables refer to the same object in memory. If two variables point to different objects, even if they have the same value, is will return False.\n",
    "'''"
   ]
  },
  {
   "cell_type": "code",
   "execution_count": 8,
   "metadata": {},
   "outputs": [
    {
     "data": {
      "text/plain": [
       "'\\nLogical operators in Python are used to combine conditional statements and return True or False based on logical relationships. The three main logical operators are:\\n\\nand (Logical AND) - Returns True only if both conditions are True.\\nor (Logical OR) - Returns True if at least one condition is True.\\nnot (Logical NOT)- Reverses the truth value of a condition.\\n\\n'"
      ]
     },
     "execution_count": 8,
     "metadata": {},
     "output_type": "execute_result"
    }
   ],
   "source": [
    "#8 What are logical operators in Python \n",
    "'''\n",
    "Logical operators in Python are used to combine conditional statements and return True or False based on logical relationships. The three main logical operators are:\n",
    "\n",
    "and (Logical AND) - Returns True only if both conditions are True.\n",
    "or (Logical OR) - Returns True if at least one condition is True.\n",
    "not (Logical NOT)- Reverses the truth value of a condition.\n",
    "\n",
    "'''"
   ]
  },
  {
   "cell_type": "code",
   "execution_count": 10,
   "metadata": {},
   "outputs": [
    {
     "data": {
      "text/plain": [
       "'\\nType casting (also called type conversion) in Python is the process of converting one data type into another. Python provides two types of type casting:\\n\\nImplicit Type Casting - Done automatically by Python.\\nExplicit Type Casting - Done manually by the programmer using built-in function\\n'"
      ]
     },
     "execution_count": 10,
     "metadata": {},
     "output_type": "execute_result"
    }
   ],
   "source": [
    "#9 What is type casting in Python \n",
    "'''\n",
    "Type casting (also called type conversion) in Python is the process of converting one data type into another. Python provides two types of type casting:\n",
    "\n",
    "Implicit Type Casting - Done automatically by Python.\n",
    "Explicit Type Casting - Done manually by the programmer using built-in function\n",
    "'''"
   ]
  },
  {
   "cell_type": "code",
   "execution_count": 12,
   "metadata": {},
   "outputs": [
    {
     "data": {
      "text/plain": [
       "\"\\nImplicit Type Casting (Automatic Type Conversion)\\n-Definition: Implicit type casting is automatically done by Python when it needs to convert a smaller data type to a larger one to prevent data loss.\\n-Occurs when: Python automatically converts a lower data type (like int) to a higher data type (like float or str), usually during operations that involve different data types.\\n-No explicit intervention required: The user doesn't need to manually call any conversion function; Python handles it.\\nExample:\\nWhen performing arithmetic operations involving an int and a float, Python will convert the int to a float to ensure no precision is lost.\\n\\nExplicit Type Casting (Manual Type Conversion)\\n-Definition: Explicit type casting occurs when the programmer manually converts one data type to another using built-in functions like int(), float(), str(), etc.\\n-Occurs when: The user decides to convert a value from one data type to another explicitly, regardless of the data size.\\n-Requires the use of functions: You must use functions like int(), str(), float(), etc., to perform explicit conversion.\\nExample:\\nWhen you need to convert a float to int (which would lose the decimal part), you use explicit type casting.\\n\""
      ]
     },
     "execution_count": 12,
     "metadata": {},
     "output_type": "execute_result"
    }
   ],
   "source": [
    "#10 What is the difference between implicit and explicit type casting \n",
    "'''\n",
    "Implicit Type Casting (Automatic Type Conversion)\n",
    "-Definition: Implicit type casting is automatically done by Python when it needs to convert a smaller data type to a larger one to prevent data loss.\n",
    "-Occurs when: Python automatically converts a lower data type (like int) to a higher data type (like float or str), usually during operations that involve different data types.\n",
    "-No explicit intervention required: The user doesn't need to manually call any conversion function; Python handles it.\n",
    "Example:\n",
    "When performing arithmetic operations involving an int and a float, Python will convert the int to a float to ensure no precision is lost.\n",
    "\n",
    "Explicit Type Casting (Manual Type Conversion)\n",
    "-Definition: Explicit type casting occurs when the programmer manually converts one data type to another using built-in functions like int(), float(), str(), etc.\n",
    "-Occurs when: The user decides to convert a value from one data type to another explicitly, regardless of the data size.\n",
    "-Requires the use of functions: You must use functions like int(), str(), float(), etc., to perform explicit conversion.\n",
    "Example:\n",
    "When you need to convert a float to int (which would lose the decimal part), you use explicit type casting.\n",
    "'''"
   ]
  },
  {
   "cell_type": "code",
   "execution_count": 13,
   "metadata": {},
   "outputs": [
    {
     "data": {
      "text/plain": [
       "'\\n->Purpose of Conditional Statements in Python\\nConditional statements in Python are used to control the flow of execution in a program based on certain conditions. They allow the program to make decisions and execute different blocks of code depending on whether a condition is True or False.\\n\\n->Key Purposes of Conditional Statements:\\nDecision Making\\nConditional statements help a program choose between different options based on conditions. They enable the program to follow different execution paths based on the input, user actions, or calculated conditions.\\n\\nControl Flow\\nBy using conditions, Python can alter the flow of execution, making the program more dynamic and adaptable to different situations.\\n\\nError Handling and Validation\\nConditions allow you to check for specific conditions like invalid inputs, missing data, or system errors, and handle them appropriately before proceeding with the execution.\\n\\nOptimizing Code Behavior\\nUsing conditional statements, the program can decide whether to execute certain actions or skip them, saving time and resources when not needed.\\n'"
      ]
     },
     "execution_count": 13,
     "metadata": {},
     "output_type": "execute_result"
    }
   ],
   "source": [
    "#11 What is the purpose of conditional statements in Python \n",
    "\n",
    "'''\n",
    "->Purpose of Conditional Statements in Python\n",
    "Conditional statements in Python are used to control the flow of execution in a program based on certain conditions. They allow the program to make decisions and execute different blocks of code depending on whether a condition is True or False.\n",
    "\n",
    "->Key Purposes of Conditional Statements:\n",
    "Decision Making\n",
    "Conditional statements help a program choose between different options based on conditions. They enable the program to follow different execution paths based on the input, user actions, or calculated conditions.\n",
    "\n",
    "Control Flow\n",
    "By using conditions, Python can alter the flow of execution, making the program more dynamic and adaptable to different situations.\n",
    "\n",
    "Error Handling and Validation\n",
    "Conditions allow you to check for specific conditions like invalid inputs, missing data, or system errors, and handle them appropriately before proceeding with the execution.\n",
    "\n",
    "Optimizing Code Behavior\n",
    "Using conditional statements, the program can decide whether to execute certain actions or skip them, saving time and resources when not needed.\n",
    "'''"
   ]
  },
  {
   "cell_type": "code",
   "execution_count": 14,
   "metadata": {},
   "outputs": [
    {
     "data": {
      "text/plain": [
       "'\\n-The elif condition is evaluated only if the preceding if (or elif) condition is False.\\n-Python will check conditions one by one from top to bottom. As soon as it encounters a True condition, the corresponding block of code is executed, and the remaining conditions are skipped.\\n-If none of the if or elif conditions are True, the else block (if present) will execute.\\n\\n'"
      ]
     },
     "execution_count": 14,
     "metadata": {},
     "output_type": "execute_result"
    }
   ],
   "source": [
    "#12 How does the elif statement work \n",
    "'''\n",
    "-The elif condition is evaluated only if the preceding if (or elif) condition is False.\n",
    "-Python will check conditions one by one from top to bottom. As soon as it encounters a True condition, the corresponding block of code is executed, and the remaining conditions are skipped.\n",
    "-If none of the if or elif conditions are True, the else block (if present) will execute.\n",
    "\n",
    "'''"
   ]
  },
  {
   "cell_type": "code",
   "execution_count": 15,
   "metadata": {},
   "outputs": [
    {
     "data": {
      "text/plain": [
       "'\\nFOR LOOP\\nA for loop is used when you know in advance the number of iterations or when you are iterating over a sequence (like a list, tuple, dictionary, or a range).\\nWHILE LOOP\\nA while loop runs as long as a given condition is True. It continues to execute the block of code until the condition becomes False.\\n\\n'"
      ]
     },
     "execution_count": 15,
     "metadata": {},
     "output_type": "execute_result"
    }
   ],
   "source": [
    "#13 What is the difference between for and while loops \n",
    "'''\n",
    "FOR LOOP\n",
    "A for loop is used when you know in advance the number of iterations or when you are iterating over a sequence (like a list, tuple, dictionary, or a range).\n",
    "WHILE LOOP\n",
    "A while loop runs as long as a given condition is True. It continues to execute the block of code until the condition becomes False.\n",
    "\n",
    "'''\n"
   ]
  },
  {
   "cell_type": "code",
   "execution_count": 16,
   "metadata": {},
   "outputs": [
    {
     "data": {
      "text/plain": [
       "'\\nImagine you are building a system that repeatedly asks the user to enter a valid password. The system should keep asking the user until they enter a password that meets certain criteria (e.g., minimum length, contains special characters, etc.).\\n'"
      ]
     },
     "execution_count": 16,
     "metadata": {},
     "output_type": "execute_result"
    }
   ],
   "source": [
    "#14 Describe a scenario where a while loop is more suitable than a for loop.\n",
    "'''\n",
    "Imagine you are building a system that repeatedly asks the user to enter a valid password. The system should keep asking the user until they enter a password that meets certain criteria (e.g., minimum length, contains special characters, etc.).\n",
    "'''"
   ]
  },
  {
   "cell_type": "code",
   "execution_count": 17,
   "metadata": {},
   "outputs": [],
   "source": [
    "#PRACTICAL QUESTIONS"
   ]
  },
  {
   "cell_type": "code",
   "execution_count": 18,
   "metadata": {},
   "outputs": [
    {
     "name": "stdout",
     "output_type": "stream",
     "text": [
      "Hello, World!\n"
     ]
    }
   ],
   "source": [
    "#1 Write a Python program to print \"Hello, World!\n",
    "print(\"Hello, World!\")"
   ]
  },
  {
   "cell_type": "code",
   "execution_count": 19,
   "metadata": {},
   "outputs": [
    {
     "name": "stdout",
     "output_type": "stream",
     "text": [
      "My Name is  Raghav\n",
      "Age is  21\n"
     ]
    }
   ],
   "source": [
    "#2 Write a Python program that displays your name and age8\n",
    "name = input(\"Enter Your name \")\n",
    "age = int(input(\"Enter Your age \"))\n",
    "print(\"My Name is \", name)\n",
    "print(\"Age is \", age)"
   ]
  },
  {
   "cell_type": "code",
   "execution_count": 20,
   "metadata": {},
   "outputs": [
    {
     "name": "stdout",
     "output_type": "stream",
     "text": [
      "\n",
      "Here is a list of the Python keywords.  Enter any keyword to get more help.\n",
      "\n",
      "False               class               from                or\n",
      "None                continue            global              pass\n",
      "True                def                 if                  raise\n",
      "and                 del                 import              return\n",
      "as                  elif                in                  try\n",
      "assert              else                is                  while\n",
      "async               except              lambda              with\n",
      "await               finally             nonlocal            yield\n",
      "break               for                 not                 \n",
      "\n"
     ]
    }
   ],
   "source": [
    "#3 Write code to print all the pre-defined keywords in Python using the keyword library8\n",
    "help('keywords')"
   ]
  },
  {
   "cell_type": "code",
   "execution_count": 23,
   "metadata": {},
   "outputs": [
    {
     "name": "stdout",
     "output_type": "stream",
     "text": [
      "Word is a pyhton keyword\n"
     ]
    }
   ],
   "source": [
    "#4 Write a program that checks if a given word is a Python keyword.\n",
    "import keyword\n",
    "word = input(\"Enter word\")\n",
    "if keyword.iskeyword(word):\n",
    "    print(\"Word is a pyhton keyword\")\n",
    "else:\n",
    "    print(\"This is not a python keyword\")"
   ]
  },
  {
   "cell_type": "code",
   "execution_count": 26,
   "metadata": {},
   "outputs": [
    {
     "name": "stdout",
     "output_type": "stream",
     "text": [
      "[100, 2, 3, 4, 5]\n",
      "(1, 2, 3, 4, 5)\n"
     ]
    }
   ],
   "source": [
    "#5 Create a list and tuple in Python, and demonstrate how attempting to change an element works differently for each.?\n",
    "list = [1,2,3,4,5]\n",
    "tup = (1,2,3,4,5)\n",
    "list[0] = 100\n",
    "#tup[0] = 200 #it will give an error because tuple is immutable \n",
    "print(list)\n",
    "print(tup)\n"
   ]
  },
  {
   "cell_type": "code",
   "execution_count": 33,
   "metadata": {},
   "outputs": [
    {
     "name": "stdout",
     "output_type": "stream",
     "text": [
      "[1, 2, 90, 4, 5, 6]\n",
      "Tuple is immutable i.e change cannot be created :  'tuple' object does not support item assignment\n"
     ]
    }
   ],
   "source": [
    "#6  Write a function to demonstrate the behavior of mutable and immutable arguments\n",
    "def mutable():\n",
    "    list = [1,2,3,4,5,6]\n",
    "    list[2] = 90\n",
    "    print(list)\n",
    "def immutable():\n",
    "    tup = (1,2,3,4,5,6)\n",
    "    try:\n",
    "        tup[4] = 99\n",
    "    except TypeError as e:\n",
    "        print(\"Tuple is immutable i.e change cannot be created : \",e)\n",
    "mutable()\n",
    "immutable()"
   ]
  },
  {
   "cell_type": "code",
   "execution_count": 35,
   "metadata": {},
   "outputs": [
    {
     "name": "stdout",
     "output_type": "stream",
     "text": [
      "-1\n"
     ]
    }
   ],
   "source": [
    "#7 Write a program that performs basic arithmetic operations on two user-input numbers\n",
    "num1 = int(input(\"Enter first number : \"))\n",
    "num2 = int(input(\"Enter second number : \"))\n",
    "operator = input(\"Enter operator : \")\n",
    "if operator == '+':\n",
    "    print(num1+num2)\n",
    "elif operator == '-':\n",
    "    print(num1-num2)\n",
    "elif operator == '*':\n",
    "    print(num1*num2)\n",
    "elif operator == '/':\n",
    "    print(num1/num2)\n",
    "elif operator == '%':\n",
    "    print(num1%num2)\n",
    "else:\n",
    "    print(\"Using arithmetic operator\")\n",
    "\n",
    "\n"
   ]
  },
  {
   "cell_type": "code",
   "execution_count": 44,
   "metadata": {},
   "outputs": [
    {
     "name": "stdout",
     "output_type": "stream",
     "text": [
      "True\n"
     ]
    }
   ],
   "source": [
    "#8 Write a program to demonstrate the use of logical operators.\n",
    "num1 = input(\"Enter first boolean value : \").strip().lower() == \"true\"\n",
    "num2 = input(\"Enter second boolean value : \").strip().lower() == \"true\"\n",
    "operator = input(\"Enter logical operator : \").strip().lower()\n",
    "if operator == 'and':\n",
    "    print(num1 and num2)\n",
    "elif operator == 'or':\n",
    "    print(num1 or num2)\n",
    "elif operator == 'not':\n",
    "    print(not num1)\n",
    "else:\n",
    "    print(\"Choose correct logical operator\")"
   ]
  },
  {
   "cell_type": "code",
   "execution_count": 46,
   "metadata": {},
   "outputs": [
    {
     "name": "stdout",
     "output_type": "stream",
     "text": [
      "String to Int :  2\n",
      "String to Float :  2.0\n",
      "String to boolean :  True\n"
     ]
    }
   ],
   "source": [
    "#9  Write a Python program to convert user input from string to integer, float, and boolean types\n",
    "str = input(\"Enter string : \")\n",
    "a = int(str)\n",
    "b = float(str)\n",
    "c = bool(str)\n",
    "print(\"String to Int : \", a)\n",
    "print(\"String to Float : \", b)\n",
    "print(\"String to boolean : \",c)"
   ]
  },
  {
   "cell_type": "code",
   "execution_count": 50,
   "metadata": {},
   "outputs": [
    {
     "name": "stdout",
     "output_type": "stream",
     "text": [
      "[1, 2, 3, 4]\n",
      "[1.0, 2.0, 3.0, 4.0]\n",
      "[True, True, True, True]\n"
     ]
    }
   ],
   "source": [
    "#10 Write code to demonstrate type casting with list elements.\n",
    "str_list = [\"1\",\"2\",\"3\",\"4\"]\n",
    "int_list = [int(num) for num in list]\n",
    "float_list = [float(num) for num in list]\n",
    "bool_list = [bool(num) for num in list]\n",
    "print(int_list)\n",
    "print(float_list)\n",
    "print(bool_list)"
   ]
  },
  {
   "cell_type": "code",
   "execution_count": 54,
   "metadata": {},
   "outputs": [
    {
     "name": "stdout",
     "output_type": "stream",
     "text": [
      "Number is zero !!\n"
     ]
    }
   ],
   "source": [
    "#11 Write a program that checks if a number is positive, negative, or zero.\n",
    "num = int(input(\"Enter a number : \"))\n",
    "if num > 0:\n",
    "    print(\"Number is positive !!\")\n",
    "elif num < 0:\n",
    "    print(\"Number is negative !!\")\n",
    "else:\n",
    "    print(\"Number is zero !!\")"
   ]
  },
  {
   "cell_type": "code",
   "execution_count": 55,
   "metadata": {},
   "outputs": [
    {
     "name": "stdout",
     "output_type": "stream",
     "text": [
      "1\n",
      "2\n",
      "3\n",
      "4\n",
      "5\n",
      "6\n",
      "7\n",
      "8\n",
      "9\n",
      "10\n"
     ]
    }
   ],
   "source": [
    "#12 Write a for loop to print numbers from 1 to 10.\n",
    "for i in range (1,11):\n",
    "    print(i)"
   ]
  },
  {
   "cell_type": "code",
   "execution_count": 56,
   "metadata": {},
   "outputs": [
    {
     "name": "stdout",
     "output_type": "stream",
     "text": [
      "650\n"
     ]
    }
   ],
   "source": [
    "#13 Write a Python program to find the sum of all even numbers between 1 and 50.\n",
    "sum = 0\n",
    "for i in range(1,51):\n",
    "    if i%2 == 0:\n",
    "        sum = sum + i\n",
    "print(sum)"
   ]
  },
  {
   "cell_type": "code",
   "execution_count": 57,
   "metadata": {},
   "outputs": [
    {
     "name": "stdout",
     "output_type": "stream",
     "text": [
      "Reversed string  vahgar\n"
     ]
    }
   ],
   "source": [
    "#14 Write a program to reverse a string using a while loop.\n",
    "str = input(\"Enter string\")\n",
    "rev_str = \"\"\n",
    "index= len(str) - 1\n",
    "while index >= 0:\n",
    "    rev_str = rev_str + str[index]\n",
    "    index -= 1\n",
    "print(\"Reversed string \", rev_str)"
   ]
  },
  {
   "cell_type": "code",
   "execution_count": 58,
   "metadata": {},
   "outputs": [
    {
     "name": "stdout",
     "output_type": "stream",
     "text": [
      "Factorial will be :  6\n"
     ]
    }
   ],
   "source": [
    "#15 Write a Python program to calculate the factorial of a number provided by the user using a while loop\n",
    "num = int(input(\"Enter number : \"))\n",
    "fact = 1\n",
    "while num > 0:\n",
    "    fact *= num\n",
    "    num -= 1\n",
    "print(\"Factorial will be : \", fact)\n"
   ]
  },
  {
   "cell_type": "code",
   "execution_count": null,
   "metadata": {},
   "outputs": [],
   "source": []
  }
 ],
 "metadata": {
  "kernelspec": {
   "display_name": "Python 3",
   "language": "python",
   "name": "python3"
  },
  "language_info": {
   "codemirror_mode": {
    "name": "ipython",
    "version": 3
   },
   "file_extension": ".py",
   "mimetype": "text/x-python",
   "name": "python",
   "nbconvert_exporter": "python",
   "pygments_lexer": "ipython3",
   "version": "3.12.2"
  }
 },
 "nbformat": 4,
 "nbformat_minor": 2
}
