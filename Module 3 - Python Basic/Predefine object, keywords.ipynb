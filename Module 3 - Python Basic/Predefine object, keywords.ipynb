{
 "cells": [
  {
   "cell_type": "code",
   "execution_count": 1,
   "id": "3637df0b-e46c-43c2-b80b-66397d7aaf39",
   "metadata": {},
   "outputs": [
    {
     "name": "stdout",
     "output_type": "stream",
     "text": [
      "Hello world\n"
     ]
    }
   ],
   "source": [
    "print(\"Hello world\")"
   ]
  },
  {
   "cell_type": "code",
   "execution_count": 3,
   "id": "cad562f3-7bb8-4424-a7e7-831065d977b2",
   "metadata": {},
   "outputs": [
    {
     "name": "stdout",
     "output_type": "stream",
     "text": [
      "Hello world\n"
     ]
    }
   ],
   "source": [
    "print(\"Hello world\")"
   ]
  },
  {
   "cell_type": "code",
   "execution_count": 4,
   "id": "f3e24aa0-d53b-4cc7-ae34-d0f8bb4efe91",
   "metadata": {},
   "outputs": [],
   "source": [
    "a=3\n"
   ]
  },
  {
   "cell_type": "code",
   "execution_count": 5,
   "id": "4700db16-c8b7-45bc-a781-ea632d80ec92",
   "metadata": {},
   "outputs": [
    {
     "data": {
      "text/plain": [
       "3"
      ]
     },
     "execution_count": 5,
     "metadata": {},
     "output_type": "execute_result"
    }
   ],
   "source": [
    "a"
   ]
  },
  {
   "cell_type": "raw",
   "id": "d0597001-19ba-4ff4-b147-ee6eab4b0038",
   "metadata": {},
   "source": [
    "variable/identifier >> placholder where we keep variety of data which e can use to write logic"
   ]
  },
  {
   "cell_type": "code",
   "execution_count": 6,
   "id": "fd6478a1-493f-4b40-814b-ffff7a34ffa0",
   "metadata": {},
   "outputs": [],
   "source": [
    "c= \"Ajay\""
   ]
  },
  {
   "cell_type": "code",
   "execution_count": 7,
   "id": "92b751d4-f13d-485e-9cd5-68b6b272a9a9",
   "metadata": {},
   "outputs": [
    {
     "data": {
      "text/plain": [
       "'Ajay'"
      ]
     },
     "execution_count": 7,
     "metadata": {},
     "output_type": "execute_result"
    }
   ],
   "source": [
    "c\n"
   ]
  },
  {
   "cell_type": "code",
   "execution_count": 8,
   "id": "d39ebc69-0a9f-4592-805c-429327ef829c",
   "metadata": {},
   "outputs": [
    {
     "data": {
      "text/plain": [
       "str"
      ]
     },
     "execution_count": 8,
     "metadata": {},
     "output_type": "execute_result"
    }
   ],
   "source": [
    "type(c)"
   ]
  },
  {
   "cell_type": "code",
   "execution_count": 9,
   "id": "c177587f-40e5-490a-a627-fb6e83e37999",
   "metadata": {},
   "outputs": [
    {
     "data": {
      "text/plain": [
       "3"
      ]
     },
     "execution_count": 9,
     "metadata": {},
     "output_type": "execute_result"
    }
   ],
   "source": [
    "a=3\n",
    "a\n"
   ]
  },
  {
   "cell_type": "code",
   "execution_count": 10,
   "id": "d19aeeac-f62b-4b1a-99cd-43d3dadbc4e1",
   "metadata": {},
   "outputs": [
    {
     "data": {
      "text/plain": [
       "int"
      ]
     },
     "execution_count": 10,
     "metadata": {},
     "output_type": "execute_result"
    }
   ],
   "source": [
    "type(a)"
   ]
  },
  {
   "cell_type": "code",
   "execution_count": 11,
   "id": "60e8d41c-abcb-49ac-9fa6-be38d057a7df",
   "metadata": {},
   "outputs": [
    {
     "data": {
      "text/plain": [
       "float"
      ]
     },
     "execution_count": 11,
     "metadata": {},
     "output_type": "execute_result"
    }
   ],
   "source": [
    "b=4.5\n",
    "type(b)"
   ]
  },
  {
   "cell_type": "code",
   "execution_count": 12,
   "id": "75e6f5ee-8ed8-4737-9e2b-fa26364596f7",
   "metadata": {},
   "outputs": [
    {
     "data": {
      "text/plain": [
       "bool"
      ]
     },
     "execution_count": 12,
     "metadata": {},
     "output_type": "execute_result"
    }
   ],
   "source": [
    "c=True\n",
    "type(c)"
   ]
  },
  {
   "cell_type": "code",
   "execution_count": 14,
   "id": "2288d92d-e3cb-45d7-95d2-a6f35cd70f0e",
   "metadata": {},
   "outputs": [
    {
     "data": {
      "text/plain": [
       "bool"
      ]
     },
     "execution_count": 14,
     "metadata": {},
     "output_type": "execute_result"
    }
   ],
   "source": [
    "d=False\n",
    "type(d)\n"
   ]
  },
  {
   "cell_type": "code",
   "execution_count": 15,
   "id": "8b4fcd52-ebbb-4920-a8ab-92a3cff6a8a5",
   "metadata": {},
   "outputs": [
    {
     "data": {
      "text/plain": [
       "1"
      ]
     },
     "execution_count": 15,
     "metadata": {},
     "output_type": "execute_result"
    }
   ],
   "source": [
    "True-False\n"
   ]
  },
  {
   "cell_type": "code",
   "execution_count": 16,
   "id": "aaf5ee56-2f64-4134-9be7-336f8a7c0dce",
   "metadata": {},
   "outputs": [
    {
     "data": {
      "text/plain": [
       "-1"
      ]
     },
     "execution_count": 16,
     "metadata": {},
     "output_type": "execute_result"
    }
   ],
   "source": [
    "False-True"
   ]
  },
  {
   "cell_type": "code",
   "execution_count": 17,
   "id": "65c48fea-b516-4b99-b729-7a3bbd76f365",
   "metadata": {},
   "outputs": [
    {
     "data": {
      "text/plain": [
       "0"
      ]
     },
     "execution_count": 17,
     "metadata": {},
     "output_type": "execute_result"
    }
   ],
   "source": [
    "True*False\n"
   ]
  },
  {
   "cell_type": "code",
   "execution_count": 18,
   "id": "4ede5625-0792-4708-b294-029998b889a7",
   "metadata": {},
   "outputs": [
    {
     "ename": "ZeroDivisionError",
     "evalue": "division by zero",
     "output_type": "error",
     "traceback": [
      "\u001b[1;31m---------------------------------------------------------------------------\u001b[0m",
      "\u001b[1;31mZeroDivisionError\u001b[0m                         Traceback (most recent call last)",
      "Cell \u001b[1;32mIn[18], line 1\u001b[0m\n\u001b[1;32m----> 1\u001b[0m \u001b[38;5;28;43;01mTrue\u001b[39;49;00m\u001b[38;5;241;43m/\u001b[39;49m\u001b[38;5;28;43;01mFalse\u001b[39;49;00m\n",
      "\u001b[1;31mZeroDivisionError\u001b[0m: division by zero"
     ]
    }
   ],
   "source": [
    "True/False"
   ]
  },
  {
   "cell_type": "raw",
   "id": "6842b17f-af8e-4262-ad13-b0ec5523d746",
   "metadata": {},
   "source": [
    "It will throw an error"
   ]
  },
  {
   "cell_type": "code",
   "execution_count": 19,
   "id": "57f58f1d-b1f7-457e-8750-1e330da9a94a",
   "metadata": {},
   "outputs": [],
   "source": [
    "f=None\n",
    "f"
   ]
  },
  {
   "cell_type": "code",
   "execution_count": 20,
   "id": "7adca9a0-e07c-4233-a3cf-9a48b7556fea",
   "metadata": {},
   "outputs": [
    {
     "data": {
      "text/plain": [
       "NoneType"
      ]
     },
     "execution_count": 20,
     "metadata": {},
     "output_type": "execute_result"
    }
   ],
   "source": [
    "type(f)"
   ]
  },
  {
   "cell_type": "raw",
   "id": "90b33959-c84f-42ce-8b59-bff775f31837",
   "metadata": {},
   "source": [
    "x+iy >> this complx no."
   ]
  },
  {
   "cell_type": "code",
   "execution_count": 21,
   "id": "9f79a146-fb0e-4b82-913b-f379dfeddeef",
   "metadata": {},
   "outputs": [
    {
     "data": {
      "text/plain": [
       "complex"
      ]
     },
     "execution_count": 21,
     "metadata": {},
     "output_type": "execute_result"
    }
   ],
   "source": [
    "com = 5+6j\n",
    "type(com)"
   ]
  },
  {
   "cell_type": "code",
   "execution_count": 22,
   "id": "8d27ec01-6ccd-48b6-afa6-c8346677fb13",
   "metadata": {},
   "outputs": [
    {
     "data": {
      "text/plain": [
       "(5+6j)"
      ]
     },
     "execution_count": 22,
     "metadata": {},
     "output_type": "execute_result"
    }
   ],
   "source": [
    "com\n"
   ]
  },
  {
   "cell_type": "code",
   "execution_count": 23,
   "id": "09ed89f0-b82e-490f-a650-c97e8150be8b",
   "metadata": {},
   "outputs": [
    {
     "data": {
      "text/plain": [
       "5.0"
      ]
     },
     "execution_count": 23,
     "metadata": {},
     "output_type": "execute_result"
    }
   ],
   "source": [
    "com.real"
   ]
  },
  {
   "cell_type": "code",
   "execution_count": 24,
   "id": "73c386af-aca8-4e64-9881-ab77cc17e95c",
   "metadata": {},
   "outputs": [
    {
     "data": {
      "text/plain": [
       "6.0"
      ]
     },
     "execution_count": 24,
     "metadata": {},
     "output_type": "execute_result"
    }
   ],
   "source": [
    "com.imag"
   ]
  },
  {
   "cell_type": "raw",
   "id": "31a69547-1ab5-49af-8a2f-d7fc755e9da8",
   "metadata": {},
   "source": [
    "Rules of defining a variables >> A variable start with a letter(alphabet) or underscore character, it can not be keyword"
   ]
  },
  {
   "cell_type": "raw",
   "id": "c0b54f02-a934-4225-914b-c0bbbf2c3934",
   "metadata": {},
   "source": [
    "Invalid ways"
   ]
  },
  {
   "cell_type": "code",
   "execution_count": 25,
   "id": "8b5e70b0-b7ae-43b6-8190-73776d30771e",
   "metadata": {},
   "outputs": [
    {
     "ename": "SyntaxError",
     "evalue": "cannot assign to literal here. Maybe you meant '==' instead of '='? (2414822714.py, line 1)",
     "output_type": "error",
     "traceback": [
      "\u001b[1;36m  Cell \u001b[1;32mIn[25], line 1\u001b[1;36m\u001b[0m\n\u001b[1;33m    5 = a\u001b[0m\n\u001b[1;37m    ^\u001b[0m\n\u001b[1;31mSyntaxError\u001b[0m\u001b[1;31m:\u001b[0m cannot assign to literal here. Maybe you meant '==' instead of '='?\n"
     ]
    }
   ],
   "source": [
    "5 = a"
   ]
  },
  {
   "cell_type": "code",
   "execution_count": 26,
   "id": "04a4a8e4-3add-4a7d-b81d-0eeb8d229205",
   "metadata": {},
   "outputs": [
    {
     "ename": "SyntaxError",
     "evalue": "cannot assign to literal here. Maybe you meant '==' instead of '='? (808249952.py, line 1)",
     "output_type": "error",
     "traceback": [
      "\u001b[1;36m  Cell \u001b[1;32mIn[26], line 1\u001b[1;36m\u001b[0m\n\u001b[1;33m    2.3 = b\u001b[0m\n\u001b[1;37m    ^\u001b[0m\n\u001b[1;31mSyntaxError\u001b[0m\u001b[1;31m:\u001b[0m cannot assign to literal here. Maybe you meant '==' instead of '='?\n"
     ]
    }
   ],
   "source": [
    "2.3 = b"
   ]
  },
  {
   "cell_type": "code",
   "execution_count": 27,
   "id": "98cfa6ec-beeb-4f1f-a196-94966933a994",
   "metadata": {},
   "outputs": [
    {
     "ename": "SyntaxError",
     "evalue": "invalid decimal literal (3317533442.py, line 1)",
     "output_type": "error",
     "traceback": [
      "\u001b[1;36m  Cell \u001b[1;32mIn[27], line 1\u001b[1;36m\u001b[0m\n\u001b[1;33m    1name = \"Ram\"\u001b[0m\n\u001b[1;37m    ^\u001b[0m\n\u001b[1;31mSyntaxError\u001b[0m\u001b[1;31m:\u001b[0m invalid decimal literal\n"
     ]
    }
   ],
   "source": [
    "1name = \"Ram\""
   ]
  },
  {
   "cell_type": "code",
   "execution_count": 28,
   "id": "19a1b09b-962b-4af3-b344-32e8ef2aa80c",
   "metadata": {},
   "outputs": [
    {
     "ename": "SyntaxError",
     "evalue": "cannot assign to literal here. Maybe you meant '==' instead of '='? (310222110.py, line 1)",
     "output_type": "error",
     "traceback": [
      "\u001b[1;36m  Cell \u001b[1;32mIn[28], line 1\u001b[1;36m\u001b[0m\n\u001b[1;33m    1 = abc\u001b[0m\n\u001b[1;37m    ^\u001b[0m\n\u001b[1;31mSyntaxError\u001b[0m\u001b[1;31m:\u001b[0m cannot assign to literal here. Maybe you meant '==' instead of '='?\n"
     ]
    }
   ],
   "source": [
    "1 = abc"
   ]
  },
  {
   "cell_type": "raw",
   "id": "8476b7eb-c05c-47e7-a0e8-29e9cf298000",
   "metadata": {},
   "source": [
    "Valid ways"
   ]
  },
  {
   "cell_type": "code",
   "execution_count": 29,
   "id": "f5541f70-f9a3-4d5e-8075-3fdf3ce55542",
   "metadata": {},
   "outputs": [
    {
     "data": {
      "text/plain": [
       "'Ajay'"
      ]
     },
     "execution_count": 29,
     "metadata": {},
     "output_type": "execute_result"
    }
   ],
   "source": [
    "name = \"Ajay\"\n",
    "name"
   ]
  },
  {
   "cell_type": "code",
   "execution_count": 30,
   "id": "1dfba7c0-3dcc-4fec-8540-7b021b4eaa1d",
   "metadata": {},
   "outputs": [
    {
     "data": {
      "text/plain": [
       "'Ajay'"
      ]
     },
     "execution_count": 30,
     "metadata": {},
     "output_type": "execute_result"
    }
   ],
   "source": [
    "abc = \"Ajay\"\n",
    "abc"
   ]
  },
  {
   "cell_type": "code",
   "execution_count": 31,
   "id": "d19b1a83-f11a-450c-9dab-6f6b46dd83a6",
   "metadata": {},
   "outputs": [
    {
     "data": {
      "text/plain": [
       "'Gzb'"
      ]
     },
     "execution_count": 31,
     "metadata": {},
     "output_type": "execute_result"
    }
   ],
   "source": [
    "location = \"Gzb\"\n",
    "location"
   ]
  },
  {
   "cell_type": "code",
   "execution_count": 32,
   "id": "d4bf15d0-c061-4593-b3a0-1d01e232a1df",
   "metadata": {},
   "outputs": [
    {
     "data": {
      "text/plain": [
       "'Raghav'"
      ]
     },
     "execution_count": 32,
     "metadata": {},
     "output_type": "execute_result"
    }
   ],
   "source": [
    "_name = \"Raghav\"\n",
    "_name"
   ]
  },
  {
   "cell_type": "raw",
   "id": "81860dcc-a812-458a-afc3-18030f144533",
   "metadata": {},
   "source": [
    "Invalid way"
   ]
  },
  {
   "cell_type": "code",
   "execution_count": 33,
   "id": "62ff6eca-c578-40f2-9c6b-cf03ad257bf1",
   "metadata": {},
   "outputs": [
    {
     "ename": "SyntaxError",
     "evalue": "invalid syntax (2583776630.py, line 1)",
     "output_type": "error",
     "traceback": [
      "\u001b[1;36m  Cell \u001b[1;32mIn[33], line 1\u001b[1;36m\u001b[0m\n\u001b[1;33m    a bc= \"Ram\"\u001b[0m\n\u001b[1;37m      ^\u001b[0m\n\u001b[1;31mSyntaxError\u001b[0m\u001b[1;31m:\u001b[0m invalid syntax\n"
     ]
    }
   ],
   "source": [
    "a bc= \"Ram\""
   ]
  },
  {
   "cell_type": "code",
   "execution_count": 34,
   "id": "33fcf066-dba5-4054-bf72-8e909807e9c2",
   "metadata": {},
   "outputs": [
    {
     "ename": "SyntaxError",
     "evalue": "invalid syntax (4206690234.py, line 1)",
     "output_type": "error",
     "traceback": [
      "\u001b[1;36m  Cell \u001b[1;32mIn[34], line 1\u001b[1;36m\u001b[0m\n\u001b[1;33m    data science = \"pwskills\"\u001b[0m\n\u001b[1;37m         ^\u001b[0m\n\u001b[1;31mSyntaxError\u001b[0m\u001b[1;31m:\u001b[0m invalid syntax\n"
     ]
    }
   ],
   "source": [
    "data science = \"pwskills\""
   ]
  },
  {
   "cell_type": "code",
   "execution_count": 35,
   "id": "32ada317-762e-42f9-881f-0384d4a393e5",
   "metadata": {},
   "outputs": [],
   "source": [
    "data_science = \"pwkills\""
   ]
  },
  {
   "cell_type": "code",
   "execution_count": 36,
   "id": "9a74d639-66e6-4347-a841-b29729dca1c7",
   "metadata": {},
   "outputs": [
    {
     "data": {
      "text/plain": [
       "'pwkills'"
      ]
     },
     "execution_count": 36,
     "metadata": {},
     "output_type": "execute_result"
    }
   ],
   "source": [
    "data_science\n"
   ]
  },
  {
   "cell_type": "code",
   "execution_count": 37,
   "id": "13896374-1ddb-430a-9294-6755b95f2617",
   "metadata": {},
   "outputs": [
    {
     "ename": "SyntaxError",
     "evalue": "invalid syntax. Maybe you meant '==' or ':=' instead of '='? (445130134.py, line 1)",
     "output_type": "error",
     "traceback": [
      "\u001b[1;36m  Cell \u001b[1;32mIn[37], line 1\u001b[1;36m\u001b[0m\n\u001b[1;33m    @abc = \"Ram\"\u001b[0m\n\u001b[1;37m     ^\u001b[0m\n\u001b[1;31mSyntaxError\u001b[0m\u001b[1;31m:\u001b[0m invalid syntax. Maybe you meant '==' or ':=' instead of '='?\n"
     ]
    }
   ],
   "source": [
    "@abc = \"Ram\""
   ]
  },
  {
   "cell_type": "code",
   "execution_count": 38,
   "id": "5906adb4-caf4-462c-bad5-db0472c1e3fa",
   "metadata": {},
   "outputs": [
    {
     "name": "stderr",
     "output_type": "stream",
     "text": [
      "UsageError: Line magic function `%abc` not found.\n"
     ]
    }
   ],
   "source": [
    "%abc = \"Ram\""
   ]
  },
  {
   "cell_type": "raw",
   "id": "e4487532-62bc-4748-8979-19aefc4638a2",
   "metadata": {},
   "source": [
    "Comments"
   ]
  },
  {
   "cell_type": "code",
   "execution_count": 39,
   "id": "291aa2f2-0e80-4b3e-8379-c03177059acd",
   "metadata": {},
   "outputs": [],
   "source": [
    "#this is a way to define comments\n",
    "a=3\n",
    "b=5"
   ]
  },
  {
   "cell_type": "code",
   "execution_count": 40,
   "id": "5a7c60e7-c636-4a86-abb6-3a6e888901ac",
   "metadata": {},
   "outputs": [
    {
     "data": {
      "text/plain": [
       "5"
      ]
     },
     "execution_count": 40,
     "metadata": {},
     "output_type": "execute_result"
    }
   ],
   "source": [
    "#this is a leture on variable\n",
    "a=5\n",
    "a\n"
   ]
  },
  {
   "cell_type": "code",
   "execution_count": 41,
   "id": "e7485960-6b60-4b4e-a6e1-2ea2ded0c4e2",
   "metadata": {},
   "outputs": [],
   "source": [
    "#this is my first line of comment\n",
    "#this is my second line comment\n",
    "a=5"
   ]
  },
  {
   "cell_type": "code",
   "execution_count": 42,
   "id": "a08a6548-467f-4dfc-be02-a009c49f5eb2",
   "metadata": {},
   "outputs": [
    {
     "data": {
      "text/plain": [
       "5"
      ]
     },
     "execution_count": 42,
     "metadata": {},
     "output_type": "execute_result"
    }
   ],
   "source": [
    "#Multiline comment\n",
    "'''\n",
    "this is a multi line comments\n",
    "i am raghav rastogi\n",
    "all the students are enjoying\n",
    "'''\n",
    "a=5\n",
    "a"
   ]
  },
  {
   "cell_type": "code",
   "execution_count": 43,
   "id": "1c7edaa4-a64e-42a6-ac58-bfca8e06ab9e",
   "metadata": {},
   "outputs": [
    {
     "data": {
      "text/plain": [
       "5"
      ]
     },
     "execution_count": 43,
     "metadata": {},
     "output_type": "execute_result"
    }
   ],
   "source": [
    "\"\"\"\n",
    "this is a multi line comments\n",
    "i am raghav rastogi\n",
    "all the students are enjoying\n",
    "\"\"\"\n",
    "a=5\n",
    "a"
   ]
  },
  {
   "cell_type": "code",
   "execution_count": 46,
   "id": "1c4f0189-39b7-44f3-b6ae-7b1b0b55c425",
   "metadata": {},
   "outputs": [
    {
     "name": "stdout",
     "output_type": "stream",
     "text": [
      "Hello world\n"
     ]
    },
    {
     "data": {
      "text/plain": [
       "int"
      ]
     },
     "execution_count": 46,
     "metadata": {},
     "output_type": "execute_result"
    }
   ],
   "source": [
    "print(\"Hello world\")\n",
    "type(a)"
   ]
  },
  {
   "cell_type": "code",
   "execution_count": 47,
   "id": "3709541b-b2c3-486e-a440-a6c65868ccaa",
   "metadata": {},
   "outputs": [],
   "source": [
    "#keywords >> are predefined words that holds a special meaning and having specific purpose"
   ]
  },
  {
   "cell_type": "code",
   "execution_count": 48,
   "id": "6ad02862-ffd2-4cfb-837f-93bf54628019",
   "metadata": {},
   "outputs": [
    {
     "name": "stdout",
     "output_type": "stream",
     "text": [
      "\n",
      "Here is a list of the Python keywords.  Enter any keyword to get more help.\n",
      "\n",
      "False               class               from                or\n",
      "None                continue            global              pass\n",
      "True                def                 if                  raise\n",
      "and                 del                 import              return\n",
      "as                  elif                in                  try\n",
      "assert              else                is                  while\n",
      "async               except              lambda              with\n",
      "await               finally             nonlocal            yield\n",
      "break               for                 not                 \n",
      "\n"
     ]
    }
   ],
   "source": [
    "help('keywords')"
   ]
  },
  {
   "cell_type": "code",
   "execution_count": 49,
   "id": "e59ce0a6-432b-4cbc-a540-79329b7fb8a8",
   "metadata": {},
   "outputs": [
    {
     "name": "stdout",
     "output_type": "stream",
     "text": [
      "greater\n"
     ]
    }
   ],
   "source": [
    "#indentation > more readable \n",
    "if 3>2:\n",
    "    print(\"greater\")"
   ]
  },
  {
   "cell_type": "code",
   "execution_count": 51,
   "id": "dc398360-02ac-476a-9e86-db2c6a6a8196",
   "metadata": {},
   "outputs": [],
   "source": [
    "a =3 #statement >> \n",
    "name = \"Raghav\"\n",
    "\n",
    "#statement can be many type >> expression, assignment, conditional, loop\n",
    "\n"
   ]
  },
  {
   "cell_type": "code",
   "execution_count": 52,
   "id": "3421b510-bcb3-4d73-af0d-76aa89fc188b",
   "metadata": {},
   "outputs": [],
   "source": [
    "#assignment statement\n",
    "a=5"
   ]
  },
  {
   "cell_type": "code",
   "execution_count": 53,
   "id": "8611ea99-d849-4cf0-b5d7-e2ab3dc3fa95",
   "metadata": {},
   "outputs": [
    {
     "data": {
      "text/plain": [
       "9"
      ]
     },
     "execution_count": 53,
     "metadata": {},
     "output_type": "execute_result"
    }
   ],
   "source": [
    "a=5 #assignment\n",
    "b=4 #assignment \n",
    "a+b #expression statement"
   ]
  },
  {
   "cell_type": "code",
   "execution_count": 56,
   "id": "c41a005c-8286-451a-9f7b-c4d2b69d451e",
   "metadata": {},
   "outputs": [
    {
     "name": "stdin",
     "output_type": "stream",
     "text": [
      "Plz enter your name 2\n"
     ]
    }
   ],
   "source": [
    "#input output >> if you want some user to give a value of variable\n",
    "name = input(\"Plz enter your name\")\n"
   ]
  },
  {
   "cell_type": "code",
   "execution_count": 57,
   "id": "f0ebef36-1b12-496d-8c29-e5c14bd14125",
   "metadata": {},
   "outputs": [
    {
     "data": {
      "text/plain": [
       "'2'"
      ]
     },
     "execution_count": 57,
     "metadata": {},
     "output_type": "execute_result"
    }
   ],
   "source": [
    "name\n",
    "\n"
   ]
  },
  {
   "cell_type": "code",
   "execution_count": 58,
   "id": "fb673ce0-32ed-4b53-adfc-83b4b0285e98",
   "metadata": {},
   "outputs": [
    {
     "data": {
      "text/plain": [
       "str"
      ]
     },
     "execution_count": 58,
     "metadata": {},
     "output_type": "execute_result"
    }
   ],
   "source": [
    "type(name)\n"
   ]
  },
  {
   "cell_type": "code",
   "execution_count": 60,
   "id": "aa7a61d3-2222-417a-a773-3df6cc9f7b72",
   "metadata": {},
   "outputs": [],
   "source": [
    "#input take everyvalue as a string\n",
    "#we can convert this string into integer"
   ]
  },
  {
   "cell_type": "code",
   "execution_count": 62,
   "id": "647b8445-58a8-4722-bffa-6bc8463ecbc2",
   "metadata": {},
   "outputs": [],
   "source": [
    "#type casting >> cast mean to change the format\n",
    "name = int(name)\n",
    "\n"
   ]
  },
  {
   "cell_type": "code",
   "execution_count": 63,
   "id": "2de960ee-95bb-4ab6-affb-4e9e3cc255d3",
   "metadata": {},
   "outputs": [
    {
     "data": {
      "text/plain": [
       "int"
      ]
     },
     "execution_count": 63,
     "metadata": {},
     "output_type": "execute_result"
    }
   ],
   "source": [
    "type(name)\n"
   ]
  },
  {
   "cell_type": "code",
   "execution_count": 64,
   "id": "e108320e-8460-4645-b5dc-a8e47d7bd61d",
   "metadata": {},
   "outputs": [],
   "source": [
    "#python is a case sensitive programming language\n",
    "a=15\n",
    "A=13\n"
   ]
  },
  {
   "cell_type": "code",
   "execution_count": 67,
   "id": "81e2e457-0313-49a3-9eb4-0cb9ecd5c0cf",
   "metadata": {},
   "outputs": [
    {
     "data": {
      "text/plain": [
       "13"
      ]
     },
     "execution_count": 67,
     "metadata": {},
     "output_type": "execute_result"
    }
   ],
   "source": [
    "A"
   ]
  },
  {
   "cell_type": "code",
   "execution_count": 68,
   "id": "53bfb56f-c242-4830-a94d-f5ab67d28fd6",
   "metadata": {},
   "outputs": [
    {
     "data": {
      "text/plain": [
       "15"
      ]
     },
     "execution_count": 68,
     "metadata": {},
     "output_type": "execute_result"
    }
   ],
   "source": [
    "a\n"
   ]
  },
  {
   "cell_type": "code",
   "execution_count": 69,
   "id": "c8676417-2aba-4484-880d-0028490befc5",
   "metadata": {},
   "outputs": [
    {
     "name": "stdout",
     "output_type": "stream",
     "text": [
      "Hello\n"
     ]
    }
   ],
   "source": [
    "#variable can not be keywords\n",
    "\n",
    "print(\"Hello\")"
   ]
  },
  {
   "cell_type": "code",
   "execution_count": 70,
   "id": "dd155f0d-0a66-42a2-906d-9fffba97bd4a",
   "metadata": {},
   "outputs": [],
   "source": [
    "#print = \"raghav\""
   ]
  },
  {
   "cell_type": "code",
   "execution_count": 1,
   "id": "7ffad668-cb9c-4568-980e-d905251aaa96",
   "metadata": {},
   "outputs": [
    {
     "name": "stdout",
     "output_type": "stream",
     "text": [
      "world\n"
     ]
    }
   ],
   "source": [
    "\n",
    "print(\"world\")"
   ]
  },
  {
   "cell_type": "code",
   "execution_count": null,
   "id": "58a146e3-86ac-44ba-b037-1d4059f34414",
   "metadata": {},
   "outputs": [],
   "source": []
  }
 ],
 "metadata": {
  "kernelspec": {
   "display_name": "Python 3 (ipykernel)",
   "language": "python",
   "name": "python3"
  },
  "language_info": {
   "codemirror_mode": {
    "name": "ipython",
    "version": 3
   },
   "file_extension": ".py",
   "mimetype": "text/x-python",
   "name": "python",
   "nbconvert_exporter": "python",
   "pygments_lexer": "ipython3",
   "version": "3.12.4"
  }
 },
 "nbformat": 4,
 "nbformat_minor": 5
}
