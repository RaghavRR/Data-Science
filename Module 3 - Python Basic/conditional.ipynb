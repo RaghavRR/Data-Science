{
 "cells": [
  {
   "cell_type": "code",
   "execution_count": 1,
   "metadata": {},
   "outputs": [],
   "source": [
    "#conditionals >> I will play cricket when the weather is sunny\n",
    "#loop >> I will keep checking out dishes untill all the dishes are over in a buffet\n",
    "#break statement >> I will check out all the dishes untill i get Pasta"
   ]
  },
  {
   "cell_type": "code",
   "execution_count": 2,
   "metadata": {},
   "outputs": [],
   "source": [
    "#conditional statements >> helps you to code decisions based on some precondition\n",
    "#if\n",
    "#if else\n",
    "#if elif(elseif) else\n",
    "#nested if else"
   ]
  },
  {
   "cell_type": "code",
   "execution_count": 3,
   "metadata": {},
   "outputs": [],
   "source": [
    "#if statements\n",
    "#syntax\n",
    "#if condition True :\n",
    "#    block of code will be executed"
   ]
  },
  {
   "cell_type": "code",
   "execution_count": 5,
   "metadata": {},
   "outputs": [
    {
     "name": "stdout",
     "output_type": "stream",
     "text": [
      "The number is grater than 0.\n"
     ]
    }
   ],
   "source": [
    "a = 100\n",
    "if a > 0: #execute the if block, if the condition is True\n",
    "    print(\"The number is grater than 0.\")"
   ]
  },
  {
   "cell_type": "code",
   "execution_count": 6,
   "metadata": {},
   "outputs": [],
   "source": [
    "a = 100\n",
    "if a < 0: #execute the if block, if the condition is True\n",
    "    print(\"The number is grater than 0.\")"
   ]
  },
  {
   "cell_type": "code",
   "execution_count": 7,
   "metadata": {},
   "outputs": [
    {
     "name": "stdout",
     "output_type": "stream",
     "text": [
      "I will not play football\n"
     ]
    }
   ],
   "source": [
    "weather = \"rainy\"\n",
    "if weather == \"rainy\":\n",
    "    print(\"I will not play football\")"
   ]
  },
  {
   "cell_type": "code",
   "execution_count": 8,
   "metadata": {},
   "outputs": [],
   "source": [
    "weather = \"sunny\"\n",
    "if weather == \"rainy\":\n",
    "    print(\"I will not play football\")"
   ]
  },
  {
   "cell_type": "code",
   "execution_count": 9,
   "metadata": {},
   "outputs": [
    {
     "ename": "IndentationError",
     "evalue": "expected an indented block after 'if' statement on line 2 (984511337.py, line 3)",
     "output_type": "error",
     "traceback": [
      "\u001b[1;36m  Cell \u001b[1;32mIn[9], line 3\u001b[1;36m\u001b[0m\n\u001b[1;33m    print(\"I will not play football\")\u001b[0m\n\u001b[1;37m    ^\u001b[0m\n\u001b[1;31mIndentationError\u001b[0m\u001b[1;31m:\u001b[0m expected an indented block after 'if' statement on line 2\n"
     ]
    }
   ],
   "source": [
    "weather = \"sunny\"\n",
    "if weather == \"rainy\":\n",
    "print(\"I will not play football\") #indentation is necessary"
   ]
  },
  {
   "cell_type": "code",
   "execution_count": 10,
   "metadata": {},
   "outputs": [
    {
     "name": "stdout",
     "output_type": "stream",
     "text": [
      "room temp\n"
     ]
    }
   ],
   "source": [
    "temp = 30\n",
    "if temp > 25:\n",
    "    print(\"room temp\")"
   ]
  },
  {
   "cell_type": "code",
   "execution_count": 11,
   "metadata": {},
   "outputs": [
    {
     "name": "stdout",
     "output_type": "stream",
     "text": [
      "I am studying the course\n"
     ]
    }
   ],
   "source": [
    "is_ds_course = True\n",
    "if is_ds_course:\n",
    "    print(\"I am studying the course\")"
   ]
  },
  {
   "cell_type": "code",
   "execution_count": 12,
   "metadata": {},
   "outputs": [
    {
     "name": "stdout",
     "output_type": "stream",
     "text": [
      "Number is even\n"
     ]
    }
   ],
   "source": [
    "number = 42\n",
    "if number % 2 == 0:\n",
    "    print(\"Number is even\")"
   ]
  },
  {
   "cell_type": "code",
   "execution_count": 13,
   "metadata": {},
   "outputs": [
    {
     "name": "stdout",
     "output_type": "stream",
     "text": [
      "This is a number of interest\n"
     ]
    }
   ],
   "source": [
    "#in real life, decision are made based on multiple conditions\n",
    "\n",
    "number = 42\n",
    "if ((number % 2 == 0) & (number > 0)):\n",
    "    print(\"This is a number of interest\")\n"
   ]
  },
  {
   "cell_type": "code",
   "execution_count": 15,
   "metadata": {},
   "outputs": [
    {
     "name": "stdout",
     "output_type": "stream",
     "text": [
      "You are all rounder\n"
     ]
    }
   ],
   "source": [
    "grade = 8\n",
    "co_cirr = True\n",
    "if((grade >=8) and (co_cirr == True)):\n",
    "    print(\"You are all rounder\")"
   ]
  },
  {
   "cell_type": "code",
   "execution_count": 16,
   "metadata": {},
   "outputs": [],
   "source": [
    "#in real life if one condition is not fullfill, you will do something else\n",
    "#example : if weather is not rainy, i will go to play football else watch tv"
   ]
  },
  {
   "cell_type": "code",
   "execution_count": 19,
   "metadata": {},
   "outputs": [
    {
     "name": "stdout",
     "output_type": "stream",
     "text": [
      "I will watch TV\n"
     ]
    }
   ],
   "source": [
    "#if else >> execute the if block when the condition is true else execute else block\n",
    "weather = \"su\"\n",
    "if weather == \"sunny\":\n",
    "    print(\"I will not play football\")\n",
    "else :\n",
    "    print(\"I will watch TV\")"
   ]
  },
  {
   "cell_type": "code",
   "execution_count": 20,
   "metadata": {},
   "outputs": [
    {
     "name": "stdout",
     "output_type": "stream",
     "text": [
      "You will be served alcohol\n"
     ]
    }
   ],
   "source": [
    "age = 21\n",
    "if age >= 18:\n",
    "    print(\"You will be served alcohol\")\n",
    "else :\n",
    "    print(\"get out the bar\")"
   ]
  },
  {
   "cell_type": "code",
   "execution_count": 21,
   "metadata": {},
   "outputs": [
    {
     "name": "stdout",
     "output_type": "stream",
     "text": [
      "Pls have a driving license and drive\n"
     ]
    }
   ],
   "source": [
    "age = 19\n",
    "if age >= 18:\n",
    "    print(\"Pls have a driving license and drive\")\n",
    "else:\n",
    "    print(\"dont drive\")"
   ]
  },
  {
   "cell_type": "code",
   "execution_count": 23,
   "metadata": {},
   "outputs": [
    {
     "name": "stdout",
     "output_type": "stream",
     "text": [
      "I am studing\n"
     ]
    }
   ],
   "source": [
    "is_dscourse = True\n",
    "if is_dscourse:\n",
    "    print(\"I am studing\")\n",
    "else:\n",
    "    print(\"I am playing football\")"
   ]
  },
  {
   "cell_type": "code",
   "execution_count": 24,
   "metadata": {},
   "outputs": [
    {
     "name": "stdout",
     "output_type": "stream",
     "text": [
      "the no is less than 5\n"
     ]
    }
   ],
   "source": [
    "x=1\n",
    "if x > 5:\n",
    "    print(\"x is greater than 5\")\n",
    "else:\n",
    "    print(\"the no is less than 5\")"
   ]
  },
  {
   "cell_type": "code",
   "execution_count": 25,
   "metadata": {},
   "outputs": [
    {
     "name": "stdout",
     "output_type": "stream",
     "text": [
      "Even\n"
     ]
    }
   ],
   "source": [
    "#to check the even no\n",
    "num = 4\n",
    "if num % 2 ==0:\n",
    "    print(\"Even\")\n",
    "else: \n",
    "    print(\"odd\")"
   ]
  },
  {
   "cell_type": "code",
   "execution_count": 26,
   "metadata": {},
   "outputs": [
    {
     "name": "stdout",
     "output_type": "stream",
     "text": [
      "You are passed\n"
     ]
    }
   ],
   "source": [
    "score = 33\n",
    "if score >= 33:\n",
    "    print(\"You are passed\")\n",
    "else:\n",
    "    print(\"Repeat the class\")"
   ]
  },
  {
   "cell_type": "code",
   "execution_count": 27,
   "metadata": {},
   "outputs": [],
   "source": [
    "#if else >> two condition\n",
    "#in real life we can have multiple condition\n",
    "#syntax\n",
    "#if some condition\n",
    "#elif some condition\n",
    "#else"
   ]
  },
  {
   "cell_type": "code",
   "execution_count": 30,
   "metadata": {},
   "outputs": [
    {
     "name": "stdout",
     "output_type": "stream",
     "text": [
      "This block will be executed if a greater than 100\n"
     ]
    }
   ],
   "source": [
    "a = 1000\n",
    "if a > 100:\n",
    "    print(\"This block will be executed if a greater than 100\")\n",
    "elif a < 100:\n",
    "    print(\"This block executed if a is less than 100\")\n",
    "else:\n",
    "    print(\"The number is equall to 100\")"
   ]
  },
  {
   "cell_type": "code",
   "execution_count": 31,
   "metadata": {},
   "outputs": [
    {
     "name": "stdout",
     "output_type": "stream",
     "text": [
      "The number is huge\n"
     ]
    }
   ],
   "source": [
    "a = 100000\n",
    "\n",
    "if a < 100:\n",
    "    print(\"This block executed if a is less than 100\")\n",
    "elif a > 2000:\n",
    "    print(\"The number is huge\")\n",
    "elif a > 100:\n",
    "    print(\"This block will be executed if a greater than 100\")\n",
    "else:\n",
    "    print(\"The number is equall to 100\")"
   ]
  },
  {
   "cell_type": "code",
   "execution_count": 33,
   "metadata": {},
   "outputs": [
    {
     "name": "stdout",
     "output_type": "stream",
     "text": [
      "Grade B\n"
     ]
    }
   ],
   "source": [
    "score = 80\n",
    "if score >= 90:\n",
    "    print(\"Grade A\")\n",
    "elif (80<=score<90):\n",
    "    print(\"Grade B\")\n",
    "elif (70<=score<80):\n",
    "    print(\"Grade C\")\n",
    "else: \n",
    "    print(\"Grade D\")"
   ]
  },
  {
   "cell_type": "code",
   "execution_count": 34,
   "metadata": {},
   "outputs": [
    {
     "name": "stdout",
     "output_type": "stream",
     "text": [
      "You are adult\n"
     ]
    }
   ],
   "source": [
    "age = 30\n",
    "if age < 18:\n",
    "    print(\"You are minority\")\n",
    "elif(18<age<=65):\n",
    "    print(\"You are adult\")\n",
    "else: \n",
    "    print(\"You are senior citizen\")"
   ]
  },
  {
   "cell_type": "code",
   "execution_count": 36,
   "metadata": {},
   "outputs": [
    {
     "name": "stdout",
     "output_type": "stream",
     "text": [
      "Both number is grater than 5\n"
     ]
    }
   ],
   "source": [
    "#nested if else >> you can have multiple if else inside if else\n",
    "x = 10\n",
    "y = 6\n",
    "if x > 5:\n",
    "    if y > 5:\n",
    "        print(\"Both number is grater than 5\")\n",
    "    else:\n",
    "        print(\"x is grater than 5 but y is less than 5\")\n",
    "else:\n",
    "    print(\"x is not greater than 5\")"
   ]
  },
  {
   "cell_type": "code",
   "execution_count": 38,
   "metadata": {},
   "outputs": [
    {
     "name": "stdout",
     "output_type": "stream",
     "text": [
      "vip status is only for adult\n"
     ]
    }
   ],
   "source": [
    "is_vip = True\n",
    "age = 15\n",
    "if is_vip:\n",
    "    if age >= 18:\n",
    "        if age < 65:\n",
    "            print(\"Welcome to vip customer\")\n",
    "        else: \n",
    "            print(\"You are vip and very imp. you are eligible for senior citizen discount\")\n",
    "    else:\n",
    "        print(\"vip status is only for adult\")\n",
    "else:\n",
    "    print(\"You are not a vip customer and will be charge a regular price\")"
   ]
  },
  {
   "cell_type": "code",
   "execution_count": null,
   "metadata": {},
   "outputs": [
    {
     "name": "stdout",
     "output_type": "stream",
     "text": [
      "The number is  10\n"
     ]
    }
   ],
   "source": [
    "a = input(\"Enter a no.\") #by default input treats everything as string\n",
    "print(\"The number is \", a)\n"
   ]
  },
  {
   "cell_type": "code",
   "execution_count": 48,
   "metadata": {},
   "outputs": [
    {
     "data": {
      "text/plain": [
       "10"
      ]
     },
     "execution_count": 48,
     "metadata": {},
     "output_type": "execute_result"
    }
   ],
   "source": [
    "a = int(input(\"Enter a number\"))\n",
    "a"
   ]
  },
  {
   "cell_type": "code",
   "execution_count": 49,
   "metadata": {},
   "outputs": [
    {
     "data": {
      "text/plain": [
       "int"
      ]
     },
     "execution_count": 49,
     "metadata": {},
     "output_type": "execute_result"
    }
   ],
   "source": [
    "type(a)"
   ]
  },
  {
   "cell_type": "code",
   "execution_count": 50,
   "metadata": {},
   "outputs": [
    {
     "name": "stdout",
     "output_type": "stream",
     "text": [
      "This is negative\n"
     ]
    }
   ],
   "source": [
    "a = int(input(\"Enter a number\"))\n",
    "if a >= 100:\n",
    "    print(\"The no is greater than 100\")\n",
    "elif 0<=a<100:\n",
    "    print(\"The no is greater than 0 and less than 100\")\n",
    "else:\n",
    "    print(\"This is negative\")"
   ]
  },
  {
   "cell_type": "code",
   "execution_count": 55,
   "metadata": {},
   "outputs": [
    {
     "name": "stdout",
     "output_type": "stream",
     "text": [
      "Login/Registration is successfull\n"
     ]
    }
   ],
   "source": [
    "name = input(\"Enter your name\")\n",
    "email = input(\"Enter your email\")\n",
    "password = input(\"Enter your password\")\n",
    "\n",
    "if name == \"\":\n",
    "    print(\"Please enter a valid name, can not be empty\")\n",
    "else:\n",
    "    if \"@\" not in email:\n",
    "        print(\"Please enter a valid email\")\n",
    "    else:\n",
    "        if len(password) < 0:\n",
    "            print(\"No password enter, pls provide a valid password\")\n",
    "        else:\n",
    "            print(\"Login/Registration is successfull\")"
   ]
  },
  {
   "cell_type": "code",
   "execution_count": null,
   "metadata": {},
   "outputs": [],
   "source": []
  },
  {
   "cell_type": "code",
   "execution_count": null,
   "metadata": {},
   "outputs": [],
   "source": []
  }
 ],
 "metadata": {
  "kernelspec": {
   "display_name": "Python 3",
   "language": "python",
   "name": "python3"
  },
  "language_info": {
   "codemirror_mode": {
    "name": "ipython",
    "version": 3
   },
   "file_extension": ".py",
   "mimetype": "text/x-python",
   "name": "python",
   "nbconvert_exporter": "python",
   "pygments_lexer": "ipython3",
   "version": "3.12.2"
  }
 },
 "nbformat": 4,
 "nbformat_minor": 2
}
